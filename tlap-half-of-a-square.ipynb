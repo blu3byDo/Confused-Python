{
 "cells": [
  {
   "cell_type": "code",
   "execution_count": 2,
   "metadata": {},
   "outputs": [
    {
     "name": "stdout",
     "output_type": "stream",
     "text": [
      "# # # # # \n",
      "\n",
      "# # # # \n",
      "\n",
      "# # # \n",
      "\n",
      "# # \n",
      "\n",
      "# \n",
      "\n"
     ]
    }
   ],
   "source": [
    "myrow = 1\n",
    "\n",
    "while myrow < 6:\n",
    "    hash = 0\n",
    "    while hash < 6 - myrow:\n",
    "        print('#', end=' ')\n",
    "        hash += 1\n",
    "    hash = myrow -1\n",
    "    myrow += 1\n",
    "    print('\\n')"
   ]
  }
 ],
 "metadata": {
  "interpreter": {
   "hash": "916dbcbb3f70747c44a77c7bcd40155683ae19c65e1c03b4aa3499c5328201f1"
  },
  "kernelspec": {
   "display_name": "Python 3.10.4 64-bit",
   "language": "python",
   "name": "python3"
  },
  "language_info": {
   "codemirror_mode": {
    "name": "ipython",
    "version": 3
   },
   "file_extension": ".py",
   "mimetype": "text/x-python",
   "name": "python",
   "nbconvert_exporter": "python",
   "pygments_lexer": "ipython3",
   "version": "3.10.5"
  },
  "orig_nbformat": 4
 },
 "nbformat": 4,
 "nbformat_minor": 2
}
